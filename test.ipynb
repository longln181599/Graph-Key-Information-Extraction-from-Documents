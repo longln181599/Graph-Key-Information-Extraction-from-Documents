{
 "cells": [
  {
   "cell_type": "code",
   "execution_count": 39,
   "metadata": {},
   "outputs": [],
   "source": [
    "# get all file name in folder\n",
    "import os\n",
    "import glob\n",
    "import pandas as pd\n",
    "import numpy as np\n",
    "import matplotlib.pyplot as plt\n",
    "\n",
    "# get file name in folder and put them in a list\n",
    "path_csv_box = '/home/long/Desktop/vibloexample/raw_sroie/raw/box/'\n",
    "all_files_raw_box = glob.glob(path_csv_box + \"*.csv\")\n",
    "all_files_raw_box.sort()\n",
    "# just get number in string\n",
    "all_files_raw_box = [i.split('/')[-1].split('.')[0] for i in all_files_raw_box]"
   ]
  },
  {
   "cell_type": "code",
   "execution_count": 40,
   "metadata": {},
   "outputs": [],
   "source": [
    "# get file name in folder and put them in a list\n",
    "path = '/home/long/Desktop/vibloexample/raw_sroie/raw/img/'\n",
    "all_files_interim = glob.glob(path + \"*.jpg\")\n",
    "all_files_interim.sort()\n",
    "# just get number in string\n",
    "all_files_interim = [i.split('/')[-1].split('.')[0] for i in all_files_interim]"
   ]
  },
  {
   "cell_type": "code",
   "execution_count": 41,
   "metadata": {},
   "outputs": [
    {
     "data": {
      "text/plain": [
       "[]"
      ]
     },
     "execution_count": 41,
     "metadata": {},
     "output_type": "execute_result"
    }
   ],
   "source": [
    "list_ko_co = []\n",
    "for i in all_files_raw_box:\n",
    "    if i not in all_files_interim:\n",
    "        list_ko_co.append(i)\n",
    "list_ko_co"
   ]
  },
  {
   "cell_type": "code",
   "execution_count": 42,
   "metadata": {},
   "outputs": [],
   "source": [
    "# remove file ko co\n",
    "for i in list_ko_co:\n",
    "    os.remove(path_csv_box + i + '.csv')\n"
   ]
  }
 ],
 "metadata": {
  "kernelspec": {
   "display_name": "Python 3.9.12 ('base')",
   "language": "python",
   "name": "python3"
  },
  "language_info": {
   "codemirror_mode": {
    "name": "ipython",
    "version": 3
   },
   "file_extension": ".py",
   "mimetype": "text/x-python",
   "name": "python",
   "nbconvert_exporter": "python",
   "pygments_lexer": "ipython3",
   "version": "3.7.6"
  },
  "orig_nbformat": 4,
  "vscode": {
   "interpreter": {
    "hash": "97209a51df74c849a6f974ac09e644e15d8f6ee56674caa6f92a555da95e9ac0"
   }
  }
 },
 "nbformat": 4,
 "nbformat_minor": 2
}
